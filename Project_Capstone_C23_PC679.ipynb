{
  "nbformat": 4,
  "nbformat_minor": 0,
  "metadata": {
    "colab": {
      "provenance": [],
      "authorship_tag": "ABX9TyOaqNdk21EtUiJi3OBMLWtF",
      "include_colab_link": true
    },
    "kernelspec": {
      "name": "python3",
      "display_name": "Python 3"
    },
    "language_info": {
      "name": "python"
    }
  },
  "cells": [
    {
      "cell_type": "markdown",
      "metadata": {
        "id": "view-in-github",
        "colab_type": "text"
      },
      "source": [
        "<a href=\"https://colab.research.google.com/github/hadefpetriza/C23-PC679/blob/main/Project_Capstone_C23_PC679.ipynb\" target=\"_parent\"><img src=\"https://colab.research.google.com/assets/colab-badge.svg\" alt=\"Open In Colab\"/></a>"
      ]
    },
    {
      "cell_type": "markdown",
      "source": [
        "# Image Classification\n",
        "**Note :**\n",
        "Jadi Aplikasi dapat mendeteksi kelima item berikut\n",
        "1.   Sampah Organic\n",
        "2.   Plastik (Recycle)\n",
        "3.   Kayu (Recycle)\n",
        "4.   Seng / besi (Recycle)\n",
        "5.   Non-Recycle(Sampah medis, sampah basah, sampah kaca)\n",
        "\n"
      ],
      "metadata": {
        "id": "ka2yC0tBLSC9"
      }
    },
    {
      "cell_type": "code",
      "execution_count": null,
      "metadata": {
        "id": "JawbzLZqLCjt"
      },
      "outputs": [],
      "source": [
        "# Library yang digunakan\n",
        "import os\n",
        "import zipfile\n",
        "import matplotlib.pyplot as plt\n",
        "import numpy as np\n",
        "import tensorflow as tf\n",
        "# import tensorboard\n",
        "from tensorflow.keras.preprocessing.image import ImageDataGenerator"
      ]
    },
    {
      "cell_type": "code",
      "source": [
        "# File path for data\n",
        "train_dataset = \"????\"\n",
        "val_dataset = \"????\"\n",
        "test_dataset = \"????\""
      ],
      "metadata": {
        "id": "kbSJEa6PUaFl"
      },
      "execution_count": null,
      "outputs": []
    },
    {
      "cell_type": "code",
      "source": [
        "# Show the data in train_dataset\n",
        "jenis = [\"Sampah Organic\", \"Sampah Plastik\", \"Sampah Kayu\", \"Sampah Besi\", \"Sampah Non-Recycle\"]\n",
        "plt.figure(figsize=(10,10))\n",
        "for images, labels in train_dataset.take(1):\n",
        "  for i in range(9):\n",
        "    ax = plt.subplot(3, 3, i + 1)\n",
        "    plt.imshow(images[i].numpy().astype(\"uint8\"))\n",
        "    plt.title(jenis[labels[i]])\n",
        "    plt.axis(\"off\")"
      ],
      "metadata": {
        "id": "nVu0lWaYsFZ3"
      },
      "execution_count": null,
      "outputs": []
    },
    {
      "cell_type": "code",
      "source": [
        "# Image Augmentation \n",
        "def train_val_generator(train_dataset, val_dataset):\n",
        " train_datagen = ImageDataGenerator(rescale = 1./255.,\n",
        "                                     rotation_range = 40,\n",
        "                                     width_shift_range = 0.2,\n",
        "                                     height_shift_range = 0.2,\n",
        "                                     shear_range = 0.2,\n",
        "                                     zoom_range = 0.2,\n",
        "                                     horizontal_flip = True,\n",
        "                                     fill_mode = 'nearest')\n",
        " \n",
        "  train_generator = train_datagen.flow_from_directory(directory = train_dataset,\n",
        "                                                      batch_size = 250,\n",
        "                                                      class_mode = 'categorical',\n",
        "                                                      target_size = (224, 224))\n",
        "\n",
        "  val_datagen = ImageDataGenerator(rescale = 1./255.)\n",
        "  val_generator = val_datagen.flow_from_directory(directory = val_dataset,\n",
        "                                                                batch_size = 250,\n",
        "                                                                class_mode = 'categorical',\n",
        "                                                                target_size = (150, 150))\n",
        "  \n",
        "  return train_generator, val_generator"
      ],
      "metadata": {
        "id": "vd7WJSp1OsKf"
      },
      "execution_count": null,
      "outputs": []
    },
    {
      "cell_type": "code",
      "source": [
        "# Model Architecture\n",
        "def create_model():\n",
        "  model = tf.keras.Sequential[(\n",
        "      tf.keras.layers.Conv2D(64, (3, 3), activation = \"relu\", input_shape = (300, 300, 3)),\n",
        "      tf.keras.layers.MaxPooling2D(2,2),\n",
        "      tf.keras.layers.Conv2D(128, (3,3), activation = \"relu\"),\n",
        "      tf.keras.layers.MaxPooling2D(2,2),\n",
        "      tf.keras.layers.Conv2D(activation = \"relu\"),\n",
        "      tf.keras.layers.MaxPooling2D(2,2),\n",
        "      \n",
        "      tf.keras.layers.Flatten(),\n",
        "      tf.keras.layers.Dense(512, activation = \"relu\"),\n",
        "      tf.keras.layers.Dense(5, activation =  \"softmax\")\n",
        "  )]\n",
        "\n",
        "  model.compile(optimizer = tf.optimizers.Adam(),\n",
        "                loss = \"sparse_categorical_crossentropy\",\n",
        "                metrics = \"accuracy\")\n",
        "  \n",
        "  return model\n",
        "\n"
      ],
      "metadata": {
        "id": "44wLxt5nLRr7"
      },
      "execution_count": null,
      "outputs": []
    },
    {
      "cell_type": "code",
      "source": [
        "# Save model\n",
        "model = create_model()\n",
        "\n",
        "# Train Model\n",
        "history = model.fit(train_generator,\n",
        "                    epoch = 20,\n",
        "                    validation_data = val_generator)"
      ],
      "metadata": {
        "id": "fRDv9JLnQ_3p"
      },
      "execution_count": null,
      "outputs": []
    },
    {
      "cell_type": "code",
      "source": [
        "# Show plot train accuracy and val_accuracy\n",
        "plt.plot(history.history[\"accuracy\"], label = \"accuracy\")\n",
        "plt.plot(history.history[\"val_accuracy\"], label = \"val_accuracy\")\n",
        "plt.xlabel(\"Epoch\")\n",
        "plt.ylabel(\"Accuracy\")\n",
        "plt.ylim([0.5, 1])\n",
        "plt.legend(loc = \"lower right\")"
      ],
      "metadata": {
        "id": "KLfcaeE88N61"
      },
      "execution_count": null,
      "outputs": []
    },
    {
      "cell_type": "code",
      "source": [
        "# Save file training (TensorFlow Lite)\n",
        "converter = tf.lite.TFLiteConverter.from_keras_model(model)\n",
        "tflite_model = converter.convert()\n",
        "\n",
        "with open(\"model_classification.tflite\", 'wb') as f:\n",
        "  f.write(tflite_model)"
      ],
      "metadata": {
        "id": "GRkpuZ0QmiAM"
      },
      "execution_count": null,
      "outputs": []
    }
  ]
}